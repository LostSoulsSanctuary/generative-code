{
  "nbformat": 4,
  "nbformat_minor": 0,
  "metadata": {
    "kernelspec": {
      "display_name": "Python 3",
      "language": "python",
      "name": "python3"
    },
    "language_info": {
      "codemirror_mode": {
        "name": "ipython",
        "version": 3
      },
      "file_extension": ".py",
      "mimetype": "text/x-python",
      "name": "python",
      "nbconvert_exporter": "python",
      "pygments_lexer": "ipython3",
      "version": "3.8.5"
    },
    "colab": {
      "name": "SOUL_GENERATION_CODE_GH.ipynb",
      "provenance": [],
      "collapsed_sections": []
    }
  },
  "cells": [
    {
      "cell_type": "code",
      "metadata": {
        "id": "LIYVA9PKlatE"
      },
      "source": [
        "from PIL import Image, ImageOps\n",
        "from IPython.display import display\n",
        "import random\n",
        "import json\n",
        "import os.path\n"
      ],
      "execution_count": null,
      "outputs": []
    },
    {
      "cell_type": "code",
      "metadata": {
        "id": "Sc_GY9eLlatI"
      },
      "source": [
        "### Adapted from https://github.com/vortextemporum/BoringBananasCompany/tree/master/image_generation\n",
        "### Step 1: gather files\n",
        "\n",
        "# Example of our backgrounds, use this format to fill in rest\n",
        "background = [\"Blue\",\"Lilac\",\"Orange\",\"Pink\",\"Purple\",\"Yellow\",\"Green\",\"Greenburst\"]\n",
        "backgroundWeights = [27,20,18,12,10,7,5,1]\n",
        "backgroundFiles = {\"Blue\":\"blue.png\",\"Lilac\":\"lilac.png\",\"Orange\":\"orange.png\",\"Pink\":\"pink.png\",\"Purple\":\"purple.png\",\"Yellow\":\"yellow.png\",\"Green\":\"green.png\",\"Greenburst\":\"greenburst.png\"}\n",
        "\n",
        "body = []\n",
        "bodyWeights = []\n",
        "bodyFiles = {}\n",
        "\n",
        "face = []\n",
        "faceWeights = []\n",
        "faceFiles = {}\n",
        "\n",
        "shirt = []\n",
        "shirtWeights = []\n",
        "shirtFiles = {}\n",
        "\n",
        "headware = []\n",
        "headwareWeights = []\n",
        "headwareFiles = {}\n",
        "\n",
        "\n",
        "\n"
      ],
      "execution_count": null,
      "outputs": []
    },
    {
      "cell_type": "code",
      "metadata": {
        "id": "TrzSgQlDlatQ"
      },
      "source": [
        "### Step 2: Generate traits, Total Souls = 9999 \n",
        "\n",
        "TOTAL_SOULS = 9999\n",
        "\n",
        "traits = []\n",
        "\n",
        "def createCombo():\n",
        "    \n",
        "    trait = {}\n",
        "\n",
        "    trait[\"Shirt\"] = random.choices(shirt, shirtWeights)[0]\n",
        "    trait[\"Background\"] = random.choices(background, backgroundWeights)[0]\n",
        "    trait[\"Body\"] = random.choices(body, bodyWeights)[0]\n",
        "    trait[\"Face\"] = random.choices(face, faceWeights)[0]\n",
        "    trait[\"Headware\"] = random.choices(headware, headwareWeights)[0]\n",
        "    \n",
        "    \n",
        "    if trait in traits:\n",
        "        return createCombo()\n",
        "    else:\n",
        "        return trait\n",
        "    \n",
        "for i in range(TOTAL_SOULS):\n",
        "    \n",
        "    newtraitcombo = createCombo()\n",
        "    \n",
        "    traits.append(newtraitcombo)\n",
        "    \n"
      ],
      "execution_count": null,
      "outputs": []
    },
    {
      "cell_type": "code",
      "metadata": {
        "id": "PK31WpJglatT"
      },
      "source": [
        "### Step 3: Check if there are any duplicates\n",
        "def allUnique(x):\n",
        "    seen = list()\n",
        "    return not any(i in seen or seen.append(i) for i in x)\n",
        "\n",
        "print(allUnique(traits))"
      ],
      "execution_count": null,
      "outputs": []
    },
    {
      "cell_type": "code",
      "metadata": {
        "id": "EVhGXHoolatV"
      },
      "source": [
        "### Step 4: Add token Id to traits list\n",
        "\n",
        "i = 0\n",
        "for item in traits:\n",
        "    item[\"tokenId\"] = i\n",
        "    i = i + 1"
      ],
      "execution_count": null,
      "outputs": []
    },
    {
      "cell_type": "code",
      "metadata": {
        "id": "wO7KQL2Clata"
      },
      "source": [
        "### Step 5: Generate Images\n",
        "    \n",
        "for item in traits:\n",
        "\n",
        "    im1 = Image.open(f'{backgroundFiles[item[\"Background\"]]}').convert('RGBA')\n",
        "    im2 = Image.open(f'{bodyFiles[item[\"Body\"]]}').convert('RGBA')\n",
        "    im3 = Image.open(f'{faceFiles[item[\"Face\"]]}').convert('RGBA')\n",
        "    im4 = Image.open(f'{shirtFiles[item[\"Shirt\"]]}').convert('RGBA')\n",
        "    im5 = Image.open(f'{headwareFiles[item[\"Headware\"]]}').convert('RGBA')\n",
        "\n",
        "\n",
        "    # Create each composite\n",
        "    com1 = Image.alpha_composite(im1, im2)\n",
        "    com2 = Image.alpha_composite(com1, im3)\n",
        "    com3 = Image.alpha_composite(com2, im4)\n",
        "    com4 = Image.alpha_composite(com3, im5)\n",
        "\n",
        "    # Convert to RGB\n",
        "    rgb_im = com4.convert('RGB')\n",
        "\n",
        "    # Save image\n",
        "    file_name = str(item[\"tokenId\"]) + \".png\"\n",
        "    rgb_im.save(\"PATH/TO/OUTPUT_FOLDER/\" + file_name)\n",
        "    print(f'{str(item[\"tokenId\"])} done')\n",
        "    \n",
        "    "
      ],
      "execution_count": null,
      "outputs": []
    },
    {
      "cell_type": "code",
      "metadata": {
        "id": "dK-kVk8XZWxB"
      },
      "source": [
        "### Step 6: Build Json metadata files for opensea metadata standards and save into a folder\n",
        "\n",
        "i = 0\n",
        "\n",
        "for item in traits:\n",
        "  metadata = {\n",
        "      \"image\":\"ipfs://PLACEHOLDER_IMAGE\",\n",
        "      \"attributes\":[\n",
        "        {\"trait_type\":\"Background\", \"value\":item['Background']},\n",
        "        {\"trait_type\":\"Body\", \"value\":item['Body']},\n",
        "        {\"trait_type\":\"Headware\",\"value\":item['Headware']},\n",
        "        {\"trait_type\":\"Face\",\"value\":item['Face']},\n",
        "        {\"trait_type\":\"Shirt\",\"value\":item['Shirt']}]\n",
        "  }\n",
        "\n",
        "  file_name = \"PATH/TO/FOLDER/{}\".format(i)\n",
        "  with open(file_name, 'w') as outfile:\n",
        "    json.dump(metadata, outfile, indent=4)\n",
        "  i = i + 1"
      ],
      "execution_count": null,
      "outputs": []
    },
    {
      "cell_type": "code",
      "metadata": {
        "id": "XqT56PGalatY"
      },
      "source": [
        "### Step 7: Write one metadata file\n",
        "\n",
        "file_name = \"PATH/TO/JSON/FILE\"\n",
        "with open(file_name, 'w') as outfile:\n",
        "    json.dump(traits, outfile, indent=4)"
      ],
      "execution_count": null,
      "outputs": []
    },
    {
      "cell_type": "code",
      "metadata": {
        "id": "xUvBKfqUlatX"
      },
      "source": [
        "### Step 8: Get trait counts\n",
        "\n",
        "backgroundCounts = {}\n",
        "for item in background:\n",
        "    backgroundCounts[item] = 0\n",
        "\n",
        "bodyCounts = {}\n",
        "for item in body:\n",
        "    bodyCounts[item] = 0\n",
        "\n",
        "headwareCounts = {}\n",
        "for item in headware:\n",
        "    headwareCounts[item] = 0\n",
        "\n",
        "shirtCounts = {}\n",
        "for item in shirt:\n",
        "    shirtCounts[item] = 0\n",
        "   \n",
        "faceCounts = {}\n",
        "for item in face:\n",
        "    faceCounts[item] = 0\n",
        "\n",
        "allCounts = {};\n",
        "\n",
        "for soul in traits:\n",
        "    backgroundCounts[soul[\"Background\"]] += 1\n",
        "    bodyCounts[soul[\"Body\"]] += 1\n",
        "    headwareCounts[soul[\"Headware\"]] += 1\n",
        "    shirtCounts[soul[\"Shirt\"]] += 1\n",
        "    faceCounts[soul[\"Face\"]] += 1\n",
        "\n",
        "allCounts[\"Background\"] = backgroundCounts\n",
        "allCounts[\"Body\"] = bodyCounts\n",
        "allCounts[\"Headware\"] = headwareCounts\n",
        "allCounts[\"Shirt\"] = shirtCounts\n",
        "allCounts[\"Face\"] = faceCounts\n",
        "    \n",
        "print(\"Background:\", backgroundCounts)\n",
        "print(\"Body:\", bodyCounts)\n",
        "print(\"Headware:\", headwareCounts)\n",
        "print(\"Shirt:\", shirtCounts)\n",
        "print(\"face:\", faceCounts)\n",
        "\n",
        "file_name = \"PATH/TO/JSON/FILE\"\n",
        "with open(file_name, 'w') as outfile:\n",
        "    json.dump(allCounts, outfile, indent=4)"
      ],
      "execution_count": null,
      "outputs": []
    }
  ]
}